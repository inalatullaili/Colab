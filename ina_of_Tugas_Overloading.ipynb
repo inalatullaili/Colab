{
  "nbformat": 4,
  "nbformat_minor": 0,
  "metadata": {
    "colab": {
      "provenance": [],
      "include_colab_link": true
    },
    "kernelspec": {
      "name": "python3",
      "display_name": "Python 3"
    },
    "language_info": {
      "name": "python"
    }
  },
  "cells": [
    {
      "cell_type": "markdown",
      "metadata": {
        "id": "view-in-github",
        "colab_type": "text"
      },
      "source": [
        "<a href=\"https://colab.research.google.com/github/inalatullaili/Colab/blob/main/ina_of_Tugas_Overloading.ipynb\" target=\"_parent\"><img src=\"https://colab.research.google.com/assets/colab-badge.svg\" alt=\"Open In Colab\"/></a>"
      ]
    },
    {
      "cell_type": "code",
      "execution_count": 1,
      "metadata": {
        "id": "cytAUNWzM1-6"
      },
      "outputs": [],
      "source": [
        "class perkalian:\n",
        "    def hasil(self, *args):\n",
        "        kali = 5\n",
        "        for angka in args:\n",
        "            kali *= angka\n",
        "        print(kali)\n"
      ]
    },
    {
      "cell_type": "code",
      "source": [
        "coba = perkalian()\n",
        "\n",
        "coba.hasil(4,6)\n",
        "coba.hasil(4,6,5)\n",
        "coba.hasil(4,6,5,8)\n"
      ],
      "metadata": {
        "id": "W9hN-kX7PDUI",
        "colab": {
          "base_uri": "https://localhost:8080/"
        },
        "outputId": "f89e6e14-74a1-48eb-aa4e-34398d98cb0e"
      },
      "execution_count": 2,
      "outputs": [
        {
          "output_type": "stream",
          "name": "stdout",
          "text": [
            "120\n",
            "600\n",
            "4800\n"
          ]
        }
      ]
    }
  ]
}