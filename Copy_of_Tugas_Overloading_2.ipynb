{
  "nbformat": 4,
  "nbformat_minor": 0,
  "metadata": {
    "colab": {
      "provenance": [],
      "include_colab_link": true
    },
    "kernelspec": {
      "name": "python3",
      "display_name": "Python 3"
    },
    "language_info": {
      "name": "python"
    }
  },
  "cells": [
    {
      "cell_type": "markdown",
      "metadata": {
        "id": "view-in-github",
        "colab_type": "text"
      },
      "source": [
        "<a href=\"https://colab.research.google.com/github/inalatullaili/Colab/blob/main/Copy_of_Tugas_Overloading_2.ipynb\" target=\"_parent\"><img src=\"https://colab.research.google.com/assets/colab-badge.svg\" alt=\"Open In Colab\"/></a>"
      ]
    },
    {
      "cell_type": "code",
      "execution_count": 35,
      "metadata": {
        "id": "5zCytCeM1uD4"
      },
      "outputs": [],
      "source": [
        "class nama:\n",
        "  def gabung(self, *args):\n",
        "        if (len(args) <= 4):\n",
        "            sum = \" \"\n",
        "            for num in args:\n",
        "                sum += num\n",
        "            print(sum)\n",
        "        else:\n",
        "            print(\"Maksimum\")"
      ]
    },
    {
      "cell_type": "code",
      "source": [
        "#Buat main program\n",
        "hasil = nama()\n",
        "#Panggil fungsi untuk membuat nama lengkap 4 nama teman kalian\n",
        "hasil.gabung(\"ina \", \"latul \", \"laili \")\n",
        "hasil.gabung(\"nia \", \"rahmadani \")\n",
        "hasil.gabung(\"firnanda \", \"nabila \", \"falesiya \")\n",
        "hasil.gabung(\"tito \", \"arfi \", \"eka \", \"saputra \")"
      ],
      "metadata": {
        "id": "liQBcJWZ12MN",
        "colab": {
          "base_uri": "https://localhost:8080/"
        },
        "outputId": "51bea9bb-bf4c-4faa-dc81-b4f520772b8d"
      },
      "execution_count": 36,
      "outputs": [
        {
          "output_type": "stream",
          "name": "stdout",
          "text": [
            " ina latul laili \n",
            " nia rahmadani \n",
            " firnanda nabila falesiya \n",
            " tito arfi eka saputra \n"
          ]
        }
      ]
    },
    {
      "cell_type": "code",
      "source": [
        "#Tulisakan kesimpulan dari materi Overloading menurut pemahaman anda!\n",
        "#menurut saya materi OVERLOADING ini kita bisa membuat sebuah method yang bisa mengenal beberapa variasi jumlah parameter."
      ],
      "metadata": {
        "id": "xwFmppIG3JGE"
      },
      "execution_count": 37,
      "outputs": []
    }
  ]
}