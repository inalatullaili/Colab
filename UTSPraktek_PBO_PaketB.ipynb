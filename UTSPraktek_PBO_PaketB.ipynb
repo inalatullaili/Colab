{
  "nbformat": 4,
  "nbformat_minor": 0,
  "metadata": {
    "colab": {
      "provenance": [],
      "include_colab_link": true
    },
    "kernelspec": {
      "name": "python3",
      "display_name": "Python 3"
    },
    "language_info": {
      "name": "python"
    }
  },
  "cells": [
    {
      "cell_type": "markdown",
      "metadata": {
        "id": "view-in-github",
        "colab_type": "text"
      },
      "source": [
        "<a href=\"https://colab.research.google.com/github/inalatullaili/Colab/blob/main/UTSPraktek_PBO_PaketB.ipynb\" target=\"_parent\"><img src=\"https://colab.research.google.com/assets/colab-badge.svg\" alt=\"Open In Colab\"/></a>"
      ]
    },
    {
      "cell_type": "markdown",
      "source": [
        "**Sistem Manajemen Pasien Rumah Sakit**\n",
        "\n",
        "Anda adalah seorang pengembang perangkat lunak yang bekerja untuk rumah sakit. Rumah sakit ini memiliki kelas induk Pasien dengan atribut berikut:\n",
        "*   nomer rekam medis\n",
        "*   nama\n",
        "*   umur\n",
        "*   jenis kelamin\n",
        "\n",
        "Selain itu, rumah sakit ini memiliki dua jenis pasian yaitu rawat inap dan rawat jalan.\n",
        "\n",
        "Pasien rawat inap memiliki atribut tambahan nomor kamar (contoh nomer kamar bebas)\n",
        "\n",
        "Sementara pasien rawat jalan memiliki atribut tambahan frekuensi kunjungan (harian, pekanan, dsb)\n",
        "\n",
        "Manajemen rumah sakit ingin Anda membuat program Python yang memungkinkan mereka untuk mencetak informasi tentang setiap pasien, termasuk nomer rekam medis, nama, umur, jenis kelamin, serta atribut tambahan yang sesuai (nomer kamar dan frekuensi kunungan).\n",
        "\n",
        "Buatlah program yang terdiri dari class-class yang dibutuhkan dan program utama yang digunakan untuk menjalankan class-class yang telah dibuat.\n",
        "\n",
        "Selamat mengerjakan!"
      ],
      "metadata": {
        "id": "xNiqvOwe07Hh"
      }
    },
    {
      "cell_type": "code",
      "execution_count": 3,
      "metadata": {
        "id": "7mpdReMA0z6H"
      },
      "outputs": [],
      "source": [
        "class Pasien:\n",
        "    def __init__(self, nomer_rekam_medis, nama, umur, jenis_kelamin):\n",
        "        self.nomer_rekam_medis = nomer_rekam_medis\n",
        "        self.nama = nama\n",
        "        self.umur = umur\n",
        "        self.jenis_kelamin = jenis_kelamin\n",
        "\n",
        "    def info_pasien(self):\n",
        "        print(\"Nomer Rekam Medis: \", self.nomer_rekam_medis)\n",
        "        print(\"Nama: \", self.nama)\n",
        "        print(\"Umur: \", self.umur)\n",
        "        print(\"Jenis Kelamin: \", self.jenis_kelamin)"
      ]
    },
    {
      "cell_type": "code",
      "source": [
        "class PasienRawatInap(Pasien):\n",
        "    def __init__(self, nomer_rekam_medis, nama, umur, jenis_kelamin, nomer_kamar):\n",
        "        super().__init__(nomer_rekam_medis, nama, umur, jenis_kelamin)\n",
        "        self.nomer_kamar = nomer_kamar\n",
        "\n",
        "    def info_pasien(self):\n",
        "        super().info_pasien()\n",
        "        print(\"Nomer Kamar: \", self.nomer_kamar)"
      ],
      "metadata": {
        "id": "tuongXEV2zlx"
      },
      "execution_count": 6,
      "outputs": []
    },
    {
      "cell_type": "code",
      "source": [
        "class PasienRawatJalan(Pasien):\n",
        "    def __init__(self, nomer_rekam_medis, nama, umur, jenis_kelamin, frekuensi_kunjungan):\n",
        "        super().__init__(nomer_rekam_medis, nama, umur, jenis_kelamin)\n",
        "        self.frekuensi_kunjungan = frekuensi_kunjungan\n",
        "\n",
        "    def info_pasien(self):\n",
        "        super().info_pasien()\n",
        "        print(\"Frekuensi Kunjungan: \", self.frekuensi_kunjungan)"
      ],
      "metadata": {
        "id": "E45LQTxC20qY"
      },
      "execution_count": 10,
      "outputs": []
    },
    {
      "cell_type": "code",
      "source": [
        "pasien_1 = PasienRawatInap(\"1234\", \"John\", 25, \"Laki-laki\", \"2501\")\n",
        "pasien_1.info_pasien()\n",
        "\n",
        "pasien_2 = PasienRawatJalan(\"5678\", \"Jane\", 30, \"Perempuan\", \"Pekanan\")\n",
        "pasien_2.info_pasien()"
      ],
      "metadata": {
        "id": "eA5Vo5a1211e",
        "colab": {
          "base_uri": "https://localhost:8080/"
        },
        "outputId": "8214c214-6b8f-45d2-a6c5-c6b519cc4fb8"
      },
      "execution_count": 9,
      "outputs": [
        {
          "output_type": "stream",
          "name": "stdout",
          "text": [
            "Nomer Rekam Medis:  1234\n",
            "Nama:  John\n",
            "Umur:  25\n",
            "Jenis Kelamin:  Laki-laki\n",
            "Nomer Kamar:  2501\n",
            "Nomer Rekam Medis:  5678\n",
            "Nama:  Jane\n",
            "Umur:  30\n",
            "Jenis Kelamin:  Perempuan\n",
            "Frekuensi Kunjungan:  Pekanan\n"
          ]
        }
      ]
    },
    {
      "cell_type": "markdown",
      "source": [
        "## Penjelasan\n",
        "Class pasien adalah class induk dengan atribut nomer rekam media, nama, umur, dan jenis kelamin. Fungsi informasi dalam kelas ini mencetak informasi umum tentang pasien.\n",
        "\n",
        "Class pasienrawatinap mewarisi dari class pasien dan memiliki atribut tambahan nomer kamar. Fungsi informasi dalam class ini memanggil fungsi informasi dari class induk dan mencetak informasi tambahan tentang pasien rawat inap, yaitu nomer kamar tempat pasien dirawat\n",
        "\n",
        "Class pasienrawatjalan juga mewarisi dari class pasien dan memiliki atribut tambahan frekuensi kunjungan. Fungsi informasi dalam  ini juga memanggil fungsi deskripsi dari class induk dan mencetak informasi tambahan tentang pasien rawat jalan, yaitu jumlah frekuensi kunjungan pasien kerumah sakit"
      ],
      "metadata": {
        "id": "f3ISiDJB24Ve"
      }
    }
  ]
}